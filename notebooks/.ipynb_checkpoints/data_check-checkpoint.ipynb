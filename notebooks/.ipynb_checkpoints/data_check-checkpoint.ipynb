{
 "cells": [
  {
   "cell_type": "code",
   "execution_count": 29,
   "id": "86018ffc",
   "metadata": {},
   "outputs": [],
   "source": [
    "import json\n",
    "import pandas as pd\n",
    "import os"
   ]
  },
  {
   "cell_type": "code",
   "execution_count": 30,
   "id": "0433cce3",
   "metadata": {},
   "outputs": [],
   "source": [
    "files = os.listdir(\"./\")\n",
    "storage = []\n",
    "for file in files:\n",
    "    if file[-5:] == \".json\":\n",
    "        with open(file, mode=\"r\", encoding=\"UTF-8\") as file:\n",
    "            storage.append(json.load(file))"
   ]
  },
  {
   "cell_type": "code",
   "execution_count": 32,
   "id": "85692b5d",
   "metadata": {},
   "outputs": [],
   "source": [
    "text_ls = []\n",
    "start_ls = []\n",
    "end_ls = []\n",
    "labels_ls = []\n",
    "for test in storage:\n",
    "    for history in test:\n",
    "        for val in history[\"annotations\"][0][\"result\"]:\n",
    "            text_ls.append(val[\"value\"][\"text\"])\n",
    "            start_ls.append(val[\"value\"][\"start\"])\n",
    "            end_ls.append(val[\"value\"][\"end\"])\n",
    "            for label in val[\"value\"][\"labels\"]:\n",
    "                labels_ls.append(label)"
   ]
  },
  {
   "cell_type": "code",
   "execution_count": 33,
   "id": "eab02666",
   "metadata": {},
   "outputs": [
    {
     "name": "stdout",
     "output_type": "stream",
     "text": [
      "38867\n",
      "38867\n",
      "38867\n",
      "38867\n"
     ]
    }
   ],
   "source": [
    "print(len(text_ls))\n",
    "print(len(start_ls))\n",
    "print(len(end_ls))\n",
    "print(len(labels_ls))"
   ]
  },
  {
   "cell_type": "code",
   "execution_count": 34,
   "id": "51c3fd12",
   "metadata": {},
   "outputs": [],
   "source": [
    "df = pd.DataFrame(columns=[\"text\", \"label\", \"start\", \"end\"])\n",
    "df[\"text\"] = text_ls\n",
    "df[\"label\"] = labels_ls\n",
    "df[\"start\"] = start_ls\n",
    "df[\"end\"] = end_ls"
   ]
  },
  {
   "cell_type": "code",
   "execution_count": 35,
   "id": "5d0d7496",
   "metadata": {},
   "outputs": [
    {
     "data": {
      "text/html": [
       "<div>\n",
       "<style scoped>\n",
       "    .dataframe tbody tr th:only-of-type {\n",
       "        vertical-align: middle;\n",
       "    }\n",
       "\n",
       "    .dataframe tbody tr th {\n",
       "        vertical-align: top;\n",
       "    }\n",
       "\n",
       "    .dataframe thead th {\n",
       "        text-align: right;\n",
       "    }\n",
       "</style>\n",
       "<table border=\"1\" class=\"dataframe\">\n",
       "  <thead>\n",
       "    <tr style=\"text-align: right;\">\n",
       "      <th></th>\n",
       "      <th>text</th>\n",
       "      <th>label</th>\n",
       "      <th>start</th>\n",
       "      <th>end</th>\n",
       "    </tr>\n",
       "  </thead>\n",
       "  <tbody>\n",
       "    <tr>\n",
       "      <th>0</th>\n",
       "      <td>1 марта 2006 года</td>\n",
       "      <td>Личные параметры</td>\n",
       "      <td>109</td>\n",
       "      <td>126</td>\n",
       "    </tr>\n",
       "    <tr>\n",
       "      <th>1</th>\n",
       "      <td>19 лет</td>\n",
       "      <td>Личные параметры</td>\n",
       "      <td>34</td>\n",
       "      <td>40</td>\n",
       "    </tr>\n",
       "    <tr>\n",
       "      <th>2</th>\n",
       "      <td>мужской</td>\n",
       "      <td>Личные параметры</td>\n",
       "      <td>47</td>\n",
       "      <td>54</td>\n",
       "    </tr>\n",
       "    <tr>\n",
       "      <th>3</th>\n",
       "      <td>русский</td>\n",
       "      <td>Личные параметры</td>\n",
       "      <td>72</td>\n",
       "      <td>79</td>\n",
       "    </tr>\n",
       "    <tr>\n",
       "      <th>4</th>\n",
       "      <td>затрудненное носовое дыхание</td>\n",
       "      <td>Симптомы</td>\n",
       "      <td>180</td>\n",
       "      <td>208</td>\n",
       "    </tr>\n",
       "    <tr>\n",
       "      <th>...</th>\n",
       "      <td>...</td>\n",
       "      <td>...</td>\n",
       "      <td>...</td>\n",
       "      <td>...</td>\n",
       "    </tr>\n",
       "    <tr>\n",
       "      <th>38862</th>\n",
       "      <td>продигиозан</td>\n",
       "      <td>Лекарство</td>\n",
       "      <td>9572</td>\n",
       "      <td>9583</td>\n",
       "    </tr>\n",
       "    <tr>\n",
       "      <th>38863</th>\n",
       "      <td>5-10</td>\n",
       "      <td>Значение</td>\n",
       "      <td>9604</td>\n",
       "      <td>9608</td>\n",
       "    </tr>\n",
       "    <tr>\n",
       "      <th>38864</th>\n",
       "      <td>нафталановая</td>\n",
       "      <td>Лекарство</td>\n",
       "      <td>9610</td>\n",
       "      <td>9622</td>\n",
       "    </tr>\n",
       "    <tr>\n",
       "      <th>38865</th>\n",
       "      <td>эуфилиновая мази, кремы с 0,5% метотриксатом</td>\n",
       "      <td>Лекарство</td>\n",
       "      <td>9624</td>\n",
       "      <td>9668</td>\n",
       "    </tr>\n",
       "    <tr>\n",
       "      <th>38866</th>\n",
       "      <td>АД</td>\n",
       "      <td>Анализ</td>\n",
       "      <td>3930</td>\n",
       "      <td>3932</td>\n",
       "    </tr>\n",
       "  </tbody>\n",
       "</table>\n",
       "<p>38867 rows × 4 columns</p>\n",
       "</div>"
      ],
      "text/plain": [
       "                                               text             label  start  \\\n",
       "0                                 1 марта 2006 года  Личные параметры    109   \n",
       "1                                            19 лет  Личные параметры     34   \n",
       "2                                           мужской  Личные параметры     47   \n",
       "3                                           русский  Личные параметры     72   \n",
       "4                      затрудненное носовое дыхание          Симптомы    180   \n",
       "...                                             ...               ...    ...   \n",
       "38862                                   продигиозан         Лекарство   9572   \n",
       "38863                                          5-10          Значение   9604   \n",
       "38864                                  нафталановая         Лекарство   9610   \n",
       "38865  эуфилиновая мази, кремы с 0,5% метотриксатом         Лекарство   9624   \n",
       "38866                                            АД            Анализ   3930   \n",
       "\n",
       "        end  \n",
       "0       126  \n",
       "1        40  \n",
       "2        54  \n",
       "3        79  \n",
       "4       208  \n",
       "...     ...  \n",
       "38862  9583  \n",
       "38863  9608  \n",
       "38864  9622  \n",
       "38865  9668  \n",
       "38866  3932  \n",
       "\n",
       "[38867 rows x 4 columns]"
      ]
     },
     "execution_count": 35,
     "metadata": {},
     "output_type": "execute_result"
    }
   ],
   "source": [
    "df"
   ]
  },
  {
   "cell_type": "code",
   "execution_count": 37,
   "id": "4c9ff25b",
   "metadata": {},
   "outputs": [],
   "source": [
    "df.to_csv(\"./data.csv\", index=None)"
   ]
  }
 ],
 "metadata": {
  "kernelspec": {
   "display_name": "Python 3 (ipykernel)",
   "language": "python",
   "name": "python3"
  },
  "language_info": {
   "codemirror_mode": {
    "name": "ipython",
    "version": 3
   },
   "file_extension": ".py",
   "mimetype": "text/x-python",
   "name": "python",
   "nbconvert_exporter": "python",
   "pygments_lexer": "ipython3",
   "version": "3.10.0"
  }
 },
 "nbformat": 4,
 "nbformat_minor": 5
}
