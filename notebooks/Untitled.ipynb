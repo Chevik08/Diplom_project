{
 "cells": [
  {
   "cell_type": "code",
   "execution_count": 56,
   "id": "198aebb7",
   "metadata": {},
   "outputs": [],
   "source": [
    "import pandas as pd\n",
    "import os\n",
    "\n",
    "from sklearn.feature_extraction.text import CountVectorizer\n",
    "from keras.preprocessing.text import Tokenizer\n",
    "from keras.applications import MobileNet\n",
    "from keras.layers import Dense, Input, Dropout\n",
    "from keras.models import Model\n",
    "from keras.optimizers import Adam\n",
    "from keras.utils import to_categorical\n",
    "from sklearn.model_selection import train_test_split\n",
    "from keras.preprocessing.sequence import pad_sequences\n",
    "from keras.layers import Embedding, LSTM, Dense, Dropout\n",
    "from keras.callbacks import EarlyStopping\n",
    "from keras.models import Sequential\n",
    "import numpy as np"
   ]
  },
  {
   "cell_type": "code",
   "execution_count": 113,
   "id": "91568bc0",
   "metadata": {},
   "outputs": [],
   "source": [
    "df = pd.read_csv(\"./data.csv\", index_col=None)"
   ]
  },
  {
   "cell_type": "code",
   "execution_count": 9,
   "id": "2ae67d29",
   "metadata": {},
   "outputs": [
    {
     "data": {
      "text/html": [
       "<div>\n",
       "<style scoped>\n",
       "    .dataframe tbody tr th:only-of-type {\n",
       "        vertical-align: middle;\n",
       "    }\n",
       "\n",
       "    .dataframe tbody tr th {\n",
       "        vertical-align: top;\n",
       "    }\n",
       "\n",
       "    .dataframe thead th {\n",
       "        text-align: right;\n",
       "    }\n",
       "</style>\n",
       "<table border=\"1\" class=\"dataframe\">\n",
       "  <thead>\n",
       "    <tr style=\"text-align: right;\">\n",
       "      <th></th>\n",
       "      <th>text</th>\n",
       "      <th>label</th>\n",
       "      <th>start</th>\n",
       "      <th>end</th>\n",
       "    </tr>\n",
       "  </thead>\n",
       "  <tbody>\n",
       "    <tr>\n",
       "      <th>0</th>\n",
       "      <td>1 марта 2006 года</td>\n",
       "      <td>Личные параметры</td>\n",
       "      <td>109</td>\n",
       "      <td>126</td>\n",
       "    </tr>\n",
       "    <tr>\n",
       "      <th>1</th>\n",
       "      <td>19 лет</td>\n",
       "      <td>Личные параметры</td>\n",
       "      <td>34</td>\n",
       "      <td>40</td>\n",
       "    </tr>\n",
       "    <tr>\n",
       "      <th>2</th>\n",
       "      <td>мужской</td>\n",
       "      <td>Личные параметры</td>\n",
       "      <td>47</td>\n",
       "      <td>54</td>\n",
       "    </tr>\n",
       "    <tr>\n",
       "      <th>3</th>\n",
       "      <td>русский</td>\n",
       "      <td>Личные параметры</td>\n",
       "      <td>72</td>\n",
       "      <td>79</td>\n",
       "    </tr>\n",
       "    <tr>\n",
       "      <th>4</th>\n",
       "      <td>затрудненное носовое дыхание</td>\n",
       "      <td>Симптомы</td>\n",
       "      <td>180</td>\n",
       "      <td>208</td>\n",
       "    </tr>\n",
       "    <tr>\n",
       "      <th>...</th>\n",
       "      <td>...</td>\n",
       "      <td>...</td>\n",
       "      <td>...</td>\n",
       "      <td>...</td>\n",
       "    </tr>\n",
       "    <tr>\n",
       "      <th>38862</th>\n",
       "      <td>продигиозан</td>\n",
       "      <td>Лекарство</td>\n",
       "      <td>9572</td>\n",
       "      <td>9583</td>\n",
       "    </tr>\n",
       "    <tr>\n",
       "      <th>38863</th>\n",
       "      <td>5-10</td>\n",
       "      <td>Значение</td>\n",
       "      <td>9604</td>\n",
       "      <td>9608</td>\n",
       "    </tr>\n",
       "    <tr>\n",
       "      <th>38864</th>\n",
       "      <td>нафталановая</td>\n",
       "      <td>Лекарство</td>\n",
       "      <td>9610</td>\n",
       "      <td>9622</td>\n",
       "    </tr>\n",
       "    <tr>\n",
       "      <th>38865</th>\n",
       "      <td>эуфилиновая мази, кремы с 0,5% метотриксатом</td>\n",
       "      <td>Лекарство</td>\n",
       "      <td>9624</td>\n",
       "      <td>9668</td>\n",
       "    </tr>\n",
       "    <tr>\n",
       "      <th>38866</th>\n",
       "      <td>АД</td>\n",
       "      <td>Анализ</td>\n",
       "      <td>3930</td>\n",
       "      <td>3932</td>\n",
       "    </tr>\n",
       "  </tbody>\n",
       "</table>\n",
       "<p>38867 rows × 4 columns</p>\n",
       "</div>"
      ],
      "text/plain": [
       "                                               text             label  start  \\\n",
       "0                                 1 марта 2006 года  Личные параметры    109   \n",
       "1                                            19 лет  Личные параметры     34   \n",
       "2                                           мужской  Личные параметры     47   \n",
       "3                                           русский  Личные параметры     72   \n",
       "4                      затрудненное носовое дыхание          Симптомы    180   \n",
       "...                                             ...               ...    ...   \n",
       "38862                                   продигиозан         Лекарство   9572   \n",
       "38863                                          5-10          Значение   9604   \n",
       "38864                                  нафталановая         Лекарство   9610   \n",
       "38865  эуфилиновая мази, кремы с 0,5% метотриксатом         Лекарство   9624   \n",
       "38866                                            АД            Анализ   3930   \n",
       "\n",
       "        end  \n",
       "0       126  \n",
       "1        40  \n",
       "2        54  \n",
       "3        79  \n",
       "4       208  \n",
       "...     ...  \n",
       "38862  9583  \n",
       "38863  9608  \n",
       "38864  9622  \n",
       "38865  9668  \n",
       "38866  3932  \n",
       "\n",
       "[38867 rows x 4 columns]"
      ]
     },
     "execution_count": 9,
     "metadata": {},
     "output_type": "execute_result"
    }
   ],
   "source": [
    "df"
   ]
  },
  {
   "cell_type": "code",
   "execution_count": 12,
   "id": "20219526",
   "metadata": {},
   "outputs": [
    {
     "name": "stdout",
     "output_type": "stream",
     "text": [
      "False\n",
      "[name: \"/device:CPU:0\"\n",
      "device_type: \"CPU\"\n",
      "memory_limit: 268435456\n",
      "locality {\n",
      "}\n",
      "incarnation: 9224914029390426783\n",
      "xla_global_id: -1\n",
      "]\n"
     ]
    }
   ],
   "source": [
    "import tensorflow as tf\n",
    "\n",
    "print(tf.test.is_built_with_cuda())\n",
    "\n",
    "from tensorflow.python.client import device_lib\n",
    "print(device_lib.list_local_devices())\n"
   ]
  },
  {
   "cell_type": "code",
   "execution_count": 20,
   "id": "99dc2914",
   "metadata": {},
   "outputs": [],
   "source": [
    "## Надо создать выборки и числовые вектора"
   ]
  },
  {
   "cell_type": "code",
   "execution_count": 114,
   "id": "6df8e37d",
   "metadata": {},
   "outputs": [],
   "source": [
    "x_train, x_test, y_train, y_test = train_test_split(df[\"text\"],\n",
    "                                                    data[\"label\"],\n",
    "                                                    test_size=0.1) "
   ]
  },
  {
   "cell_type": "code",
   "execution_count": 115,
   "id": "bd111b04",
   "metadata": {},
   "outputs": [
    {
     "data": {
      "text/plain": [
       "'Личные параметры'"
      ]
     },
     "execution_count": 115,
     "metadata": {},
     "output_type": "execute_result"
    }
   ],
   "source": [
    "y_train[0]"
   ]
  },
  {
   "cell_type": "code",
   "execution_count": 116,
   "id": "a93eb1c0",
   "metadata": {},
   "outputs": [],
   "source": [
    "label_cls = {}\n",
    "\n",
    "i = 0\n",
    "for item in y_train:\n",
    "    if item not in label_cls.keys():\n",
    "        label_cls[item] = i\n",
    "        i += 1\n",
    "        \n",
    "label_index = []\n",
    "for item in y_train:\n",
    "    label_index.append(label_cls[item])"
   ]
  },
  {
   "cell_type": "code",
   "execution_count": 117,
   "id": "d64ec280",
   "metadata": {},
   "outputs": [],
   "source": [
    "tokenizer = Tokenizer()\n",
    "tokenizer.fit_on_texts(x_train)\n",
    "seq = tokenizer.texts_to_sequences(x_train)\n",
    "word_index = tokenizer.word_index\n",
    "data = pad_sequences(seq)\n",
    "\n",
    "labels = to_categorical(np.asarray(label_index))"
   ]
  },
  {
   "cell_type": "code",
   "execution_count": 118,
   "id": "c2b5f91b",
   "metadata": {},
   "outputs": [
    {
     "name": "stdout",
     "output_type": "stream",
     "text": [
      "(34980, 1255)\n",
      "(34980, 14)\n"
     ]
    }
   ],
   "source": [
    "print(data.shape)\n",
    "print(labels.shape)"
   ]
  },
  {
   "cell_type": "code",
   "execution_count": 67,
   "id": "c099676c",
   "metadata": {},
   "outputs": [],
   "source": [
    "def build_model():\n",
    "    model = Sequential()\n",
    "    model.add(Embedding(34980, 128, input_length=1255))\n",
    "    model.add(LSTM(128))\n",
    "    model.add(Dropout(0.25))\n",
    "    model.add(Dense(14, activation='softmax'))\n",
    "    return model"
   ]
  },
  {
   "cell_type": "code",
   "execution_count": 71,
   "id": "3d1c16dd",
   "metadata": {},
   "outputs": [],
   "source": [
    "model = build_model()\n",
    "early_stopping = EarlyStopping(monitor='val_loss', patience=2)\n",
    "model.compile(loss='cross_entropy', optimizer='adam', metrics=['accuracy'])"
   ]
  },
  {
   "cell_type": "code",
   "execution_count": 72,
   "id": "cb474d98",
   "metadata": {},
   "outputs": [
    {
     "name": "stdout",
     "output_type": "stream",
     "text": [
      "Epoch 1/5\n",
      "1094/1094 [==============================] - ETA: 0s - loss: 0.1391 - accuracy: 0.6217WARNING:tensorflow:Early stopping conditioned on metric `val_loss` which is not available. Available metrics are: loss,accuracy\n",
      "1094/1094 [==============================] - 804s 734ms/step - loss: 0.1391 - accuracy: 0.6217\n",
      "Epoch 2/5\n",
      "1094/1094 [==============================] - ETA: 0s - loss: 0.0601 - accuracy: 0.8652WARNING:tensorflow:Early stopping conditioned on metric `val_loss` which is not available. Available metrics are: loss,accuracy\n",
      "1094/1094 [==============================] - 757s 692ms/step - loss: 0.0601 - accuracy: 0.8652\n",
      "Epoch 3/5\n",
      "1094/1094 [==============================] - ETA: 0s - loss: 0.0364 - accuracy: 0.9216WARNING:tensorflow:Early stopping conditioned on metric `val_loss` which is not available. Available metrics are: loss,accuracy\n",
      "1094/1094 [==============================] - 730s 667ms/step - loss: 0.0364 - accuracy: 0.9216\n",
      "Epoch 4/5\n",
      "1094/1094 [==============================] - ETA: 0s - loss: 0.0273 - accuracy: 0.9405WARNING:tensorflow:Early stopping conditioned on metric `val_loss` which is not available. Available metrics are: loss,accuracy\n",
      "1094/1094 [==============================] - 739s 676ms/step - loss: 0.0273 - accuracy: 0.9405\n",
      "Epoch 5/5\n",
      "1094/1094 [==============================] - ETA: 0s - loss: 0.0234 - accuracy: 0.9461WARNING:tensorflow:Early stopping conditioned on metric `val_loss` which is not available. Available metrics are: loss,accuracy\n",
      "1094/1094 [==============================] - 745s 681ms/step - loss: 0.0234 - accuracy: 0.9461\n"
     ]
    }
   ],
   "source": [
    "history = model.fit(data,\n",
    "                    labels,\n",
    "                    epochs=5,\n",
    "                    callbacks=[early_stopping])"
   ]
  },
  {
   "cell_type": "code",
   "execution_count": 76,
   "id": "71db0e18",
   "metadata": {},
   "outputs": [],
   "source": [
    "model.save_weights(\"./first_model_w.h5\")"
   ]
  },
  {
   "cell_type": "code",
   "execution_count": 77,
   "id": "04eab515",
   "metadata": {},
   "outputs": [
    {
     "name": "stderr",
     "output_type": "stream",
     "text": [
      "C:\\Users\\chern\\AppData\\Local\\Programs\\Python\\Python310\\lib\\site-packages\\keras\\src\\engine\\training.py:3079: UserWarning: You are saving your model as an HDF5 file via `model.save()`. This file format is considered legacy. We recommend using instead the native Keras format, e.g. `model.save('my_model.keras')`.\n",
      "  saving_api.save_model(\n"
     ]
    }
   ],
   "source": [
    "model.save(\"./model.h5\")"
   ]
  },
  {
   "cell_type": "code",
   "execution_count": 82,
   "id": "4ee71d9a",
   "metadata": {},
   "outputs": [],
   "source": [
    "item = data[0]\n",
    "item = np.expand_dims(item, axis=0)"
   ]
  },
  {
   "cell_type": "code",
   "execution_count": 83,
   "id": "da0a6bb0",
   "metadata": {},
   "outputs": [
    {
     "data": {
      "text/plain": [
       "(1, 1255)"
      ]
     },
     "execution_count": 83,
     "metadata": {},
     "output_type": "execute_result"
    }
   ],
   "source": [
    "item.shape"
   ]
  },
  {
   "cell_type": "code",
   "execution_count": 86,
   "id": "688e0d2f",
   "metadata": {
    "scrolled": true
   },
   "outputs": [
    {
     "name": "stdout",
     "output_type": "stream",
     "text": [
      "1/1 [==============================] - 0s 81ms/step\n"
     ]
    }
   ],
   "source": [
    "pred = np.argmax(model.predict(item))"
   ]
  },
  {
   "cell_type": "code",
   "execution_count": 91,
   "id": "c0a61eb6",
   "metadata": {},
   "outputs": [
    {
     "name": "stdout",
     "output_type": "stream",
     "text": [
      "Значение\n"
     ]
    }
   ],
   "source": [
    "for item in label_cls.keys():\n",
    "    if label_cls[item] == pred:\n",
    "        print(item)"
   ]
  },
  {
   "cell_type": "code",
   "execution_count": 92,
   "id": "45a72716",
   "metadata": {},
   "outputs": [],
   "source": [
    "def get_prediction(model, data, labels):\n",
    "    item = np.expand_dims(data, axis=0)\n",
    "    pred = np.argmax(model.predict(item))\n",
    "    for item in labels.keys():\n",
    "        if labels[item] == pred:\n",
    "            return item\n",
    "    print(\"Нет решения\")"
   ]
  },
  {
   "cell_type": "code",
   "execution_count": 133,
   "id": "2fc66e42",
   "metadata": {},
   "outputs": [],
   "source": [
    "text_t = tokenizer.sequences_to_texts(data)"
   ]
  },
  {
   "cell_type": "code",
   "execution_count": 137,
   "id": "dbee963a",
   "metadata": {},
   "outputs": [
    {
     "data": {
      "text/plain": [
       "34980"
      ]
     },
     "execution_count": 137,
     "metadata": {},
     "output_type": "execute_result"
    }
   ],
   "source": [
    "len(text_t)"
   ]
  },
  {
   "cell_type": "code",
   "execution_count": 139,
   "id": "036f80a7",
   "metadata": {},
   "outputs": [
    {
     "name": "stdout",
     "output_type": "stream",
     "text": [
      "1/1 [==============================] - 0s 81ms/step\n",
      "58: Симптомы\n",
      "1/1 [==============================] - 0s 82ms/step\n",
      "115 мг: Дата\n",
      "1/1 [==============================] - 0s 88ms/step\n",
      "78 ударов в минуту: Симптомы\n",
      "1/1 [==============================] - 0s 90ms/step\n",
      "водц: Дата\n",
      "1/1 [==============================] - 0s 87ms/step\n",
      "правая и левая половины грудной клетки симметричны: Лекарство\n",
      "1/1 [==============================] - 0s 88ms/step\n",
      "анализ крови на гепатит с анти кс ат: Место\n",
      "1/1 [==============================] - 0s 91ms/step\n",
      "0 60 ме мл: Лекарство\n",
      "1/1 [==============================] - 0s 102ms/step\n",
      "2: Значение\n",
      "1/1 [==============================] - 0s 93ms/step\n",
      "при перкуссии отмечается смещение границ относительной тупости сердца левой на 2 см кнаружи от левой срединно ключичной линии nправая проходит по левому краю грудины nтоны сердца приглушены ритмичные чсс – 70 в мин nисследование сосудов артериальный пульс на лучевых артериях одинаков частота 70 уд в мин слабого наполнения и напряжения nад 140 90: Лекарство\n",
      "1/1 [==============================] - 0s 88ms/step\n",
      "100 110 г: Лекарство\n"
     ]
    }
   ],
   "source": [
    "for i in range(10):\n",
    "    print(text_t[i] + \": \" + get_prediction(model, data[i], label_cls))"
   ]
  },
  {
   "cell_type": "code",
   "execution_count": null,
   "id": "9089390d",
   "metadata": {},
   "outputs": [],
   "source": []
  },
  {
   "cell_type": "code",
   "execution_count": null,
   "id": "06327164",
   "metadata": {},
   "outputs": [],
   "source": []
  }
 ],
 "metadata": {
  "kernelspec": {
   "display_name": "Python 3 (ipykernel)",
   "language": "python",
   "name": "python3"
  },
  "language_info": {
   "codemirror_mode": {
    "name": "ipython",
    "version": 3
   },
   "file_extension": ".py",
   "mimetype": "text/x-python",
   "name": "python",
   "nbconvert_exporter": "python",
   "pygments_lexer": "ipython3",
   "version": "3.10.0"
  }
 },
 "nbformat": 4,
 "nbformat_minor": 5
}
